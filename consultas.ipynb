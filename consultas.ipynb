{
 "cells": [
  {
   "cell_type": "markdown",
   "metadata": {
    "application/vnd.databricks.v1+cell": {
     "cellMetadata": {},
     "inputWidgets": {},
     "nuid": "f55294e7-ce7a-4343-a6b2-f8665816611e",
     "showTitle": false,
     "tableResultSettingsMap": {},
     "title": ""
    }
   },
   "source": [
    "# Recomendação de músicas e filmes"
   ]
  },
  {
   "cell_type": "markdown",
   "metadata": {},
   "source": [
    "## Preparação do ambiente"
   ]
  },
  {
   "cell_type": "code",
   "execution_count": null,
   "metadata": {
    "application/vnd.databricks.v1+cell": {
     "cellMetadata": {
      "byteLimit": 2048000,
      "rowLimit": 10000
     },
     "inputWidgets": {},
     "nuid": "e8297d55-e320-4ef3-b1aa-07e6c5751027",
     "showTitle": false,
     "tableResultSettingsMap": {},
     "title": ""
    }
   },
   "outputs": [],
   "source": [
    "from pyspark.sql import SparkSession\n",
    "from pyspark.sql.functions import col, udf, explode, from_json\n",
    "from pyspark.sql.types import StringType, ArrayType, IntegerType, StructType, StructField\n",
    "from re import sub"
   ]
  },
  {
   "cell_type": "code",
   "execution_count": null,
   "metadata": {
    "application/vnd.databricks.v1+cell": {
     "cellMetadata": {
      "byteLimit": 2048000,
      "rowLimit": 10000
     },
     "inputWidgets": {},
     "nuid": "eb16b3a2-ea17-4b01-8927-c9c9ae94c3c9",
     "showTitle": false,
     "tableResultSettingsMap": {},
     "title": ""
    }
   },
   "outputs": [],
   "source": [
    "# Conexão com o Neo4j\n",
    "neo4j_url = \"neo4j+s://0829621d.databases.neo4j.io\"\n",
    "neo4j_user = \"neo4j\"\n",
    "neo4j_password = \"yhTCPaX9X1zhIYFOv9Gkjals-hpASAg3wqaBaq-Jj_8\"\n",
    "dbname = \"neo4j\"\n",
    "connector_path = \"./conector/neo4j-spark-connector-5.3.8-s_2.13.jar\""
   ]
  },
  {
   "cell_type": "code",
   "execution_count": null,
   "metadata": {
    "application/vnd.databricks.v1+cell": {
     "cellMetadata": {
      "byteLimit": 2048000,
      "rowLimit": 10000
     },
     "inputWidgets": {},
     "nuid": "99ef79f8-59da-493b-981c-4a1cb82b8b46",
     "showTitle": false,
     "tableResultSettingsMap": {},
     "title": ""
    }
   },
   "outputs": [],
   "source": [
    "spark = (\n",
    "    SparkSession.builder.config(\"neo4j.url\", neo4j_url)\n",
    "    .config(\"neo4j.authentication.basic.username\", neo4j_user)\n",
    "    .config(\"neo4j.authentication.basic.password\", neo4j_password)\n",
    "    .config(\"neo4j.database\", dbname)\n",
    "    .config(\"spark.jars\", connector_path)\n",
    "    .getOrCreate()\n",
    ")"
   ]
  },
  {
   "cell_type": "markdown",
   "metadata": {},
   "source": [
    "## Consultas"
   ]
  },
  {
   "cell_type": "markdown",
   "metadata": {},
   "source": [
    "> 1. Recomendação de músicas baseadas em um filme específico, correlacionando o dataset de filmes e o dataset de trilhas sonoras (pelo nome do filme) com o dataset de músicas, para então recomendar músicas similares através dos atributos de músicas similares do dataset de músicas."
   ]
  },
  {
   "cell_type": "code",
   "execution_count": null,
   "metadata": {},
   "outputs": [],
   "source": [
    "movie_name = \"The Wolf of Wall Street\"\n",
    "\n",
    "query = f\"\"\"\n",
    "    // Músicas da trilha sonora\n",
    "    MATCH (m:Movie {{title: \"{movie_name}\"}})-[:SOUNDTRACK]->(s:Song)\n",
    "    RETURN DISTINCT s.song AS Música, s.artist AS Artista\n",
    "    \n",
    "    UNION\n",
    "    \n",
    "    // Músicas similares às da trilha sonora\n",
    "    MATCH (m:Movie {{title: \"{movie_name}\"}})-[:SOUNDTRACK]->(s:Song)\n",
    "    MATCH (s)-[:SIMILAR]->(recommended:Song)\n",
    "    RETURN DISTINCT recommended.song AS Música, recommended.artist AS Artista\n",
    "\"\"\"\n",
    "\n",
    "spark.read.format(\"org.neo4j.spark.DataSource\") \\\n",
    "\t.option(\"query\", query) \\\n",
    "\t.load() \\\n",
    "\t.show(truncate=False)"
   ]
  },
  {
   "cell_type": "markdown",
   "metadata": {},
   "source": [
    "> 2. Recomendações de músicas similares, utilizando atributos diversos (emoção, gênero, explicidade) do dataset de músicas."
   ]
  },
  {
   "cell_type": "code",
   "execution_count": null,
   "metadata": {},
   "outputs": [],
   "source": [
    "# Consulta de músicas similares por emoção:\n",
    "song_id = \"pyre\"\n",
    "\n",
    "query = f\"\"\"\n",
    "    MATCH (s:Song {{song_id: \"{song_id}\"}})-[:DESPERTA]-(e:Emotion)\n",
    "    MATCH (s2:Song)-[:DESPERTA]-(e)\n",
    "    WHERE\n",
    "        s2.explicit = s.explicit AND s2.song_id <> s.song_id\n",
    "    RETURN s2\n",
    "\"\"\"\n",
    "\n",
    "spark.read.format(\"org.neo4j.spark.DataSource\") \\\n",
    "\t.option(\"query\", query) \\\n",
    "\t.load() \\\n",
    "\t.show(truncate=False)\n",
    "\n",
    "# Consulta de músicas similares por artista\n",
    "query = f\"\"\"\n",
    "    MATCH (s:Song {{song_id: \"{song_id}\"}})-[:INTERPRETADA_POR]-(a:Artist)\n",
    "    MATCH (s2:Song)-[:INTERPRETADA_POR]-(a)\n",
    "    WHERE \n",
    "        a.artist_name = s2.artist AND s.song_id <> s2.song_id\n",
    "    RETURN a.artist_name as Artista, s2.song as Música\n",
    "\"\"\"\n",
    "\n",
    "spark.read.format(\"org.neo4j.spark.DataSource\") \\\n",
    "\t.option(\"query\", query) \\\n",
    "\t.load() \\\n",
    "\t.show(truncate=False)"
   ]
  },
  {
   "cell_type": "markdown",
   "metadata": {},
   "source": [
    "> 3. Recomendações de filmes similares, utilizando atributos diversos (gênero, linguagem, explicidade) do dataset de filmes."
   ]
  },
  {
   "cell_type": "code",
   "execution_count": null,
   "metadata": {},
   "outputs": [],
   "source": [
    "# Consulta de filmes similares por gênero\n",
    "identifierByName = \"anidealhusband\"\n",
    "\n",
    "query = f\"\"\"\n",
    "    MATCH (m:Movie {{identifierByName: \"{identifierByName}\"}})-[:HAS_GENRE]-(g:MovieGenre)\n",
    "    MATCH (m2:Movie)-[:HAS_GENRE]-(g)\n",
    "    WHERE\n",
    "        m2.identifierByName <> m.identifierByName\n",
    "    RETURN m2.title as Filme, g.genre_name as Gênero\n",
    "\"\"\"\n",
    "\n",
    "spark.read.format(\"org.neo4j.spark.DataSource\") \\\n",
    "\t.option(\"query\", query) \\\n",
    "\t.load() \\\n",
    "\t.show(truncate=False)\n",
    "\n",
    "# Consultas de filmes similares por diretor:\n",
    "query = f\"\"\"\n",
    "    MATCH (m:Movie {{identifierByName: \"{identifierByName}\"}})-[:DIRECTED]-(d:Director)\n",
    "    MATCH (m2:Movie)-[:DIRECTED]-(d)\n",
    "    WHERE\n",
    "        m2.identifierByName <> m.identifierByName\n",
    "    RETURN m2.title as Filme, d.director_name as Diretor\n",
    "\"\"\"\n",
    "\n",
    "spark.read.format(\"org.neo4j.spark.DataSource\") \\\n",
    "\t.option(\"query\", query) \\\n",
    "\t.load() \\\n",
    "\t.show(truncate=False)"
   ]
  },
  {
   "cell_type": "markdown",
   "metadata": {},
   "source": [
    "> 4. Encontrar músicas que tocam em filmes de um diretor específico, usando atributo de diretor do dataset de filmes, atrelado ao datasets de trilhas sonororas."
   ]
  },
  {
   "cell_type": "code",
   "execution_count": null,
   "metadata": {},
   "outputs": [],
   "source": [
    "director_name = \"Edward L. Cahn\"\n",
    "\n",
    "query = f\"\"\"\n",
    "\tMATCH (d:Director)-[:DIRECTED]-(m:Movie)-[:SOUNDTRACK]-(s:Song)-[:INTERPRETADA_POR]-(a:Artist)\n",
    "\tWHERE d.director_name = \"{director_name}\"\n",
    "\tRETURN s.song as Música, s.album as Álbum, a.artist_name as Artista, m.title as Filme\n",
    "\"\"\"\n",
    "\n",
    "spark.read.format(\"org.neo4j.spark.DataSource\") \\\n",
    "\t.option(\"query\", query) \\\n",
    "\t.load() \\\n",
    "\t.show(truncate=False)"
   ]
  },
  {
   "cell_type": "markdown",
   "metadata": {},
   "source": [
    "> 5. Ligar emoções à filmes específicos, utilizando a combinação do dataset de filmes e trilhas sonoras para atrelar o atributo emoções (do dataset de músicas) à filmes individuais."
   ]
  },
  {
   "cell_type": "code",
   "execution_count": null,
   "metadata": {},
   "outputs": [],
   "source": [
    "movie_name = \"The Wolf of Wall Street\"\n",
    "\n",
    "query = f\"\"\"\n",
    "\tMATCH (e:Emotion)-[:DESPERTA]-(s:Song)-[:SOUNDTRACK]-(m:Movie)\n",
    "\tWHERE m.title = \"{movie_name}\"\n",
    "\tRETURN e.emotion as Emoção, s.song as Música\n",
    "\"\"\"\n",
    "\n",
    "spark.read.format(\"org.neo4j.spark.DataSource\") \\\n",
    "\t.option(\"query\", query) \\\n",
    "\t.load() \\\n",
    "\t.show(truncate=False)"
   ]
  }
 ],
 "metadata": {
  "application/vnd.databricks.v1+notebook": {
   "computePreferences": null,
   "dashboards": [],
   "environmentMetadata": {
    "base_environment": "",
    "environment_version": "2"
   },
   "inputWidgetPreferences": null,
   "language": "python",
   "notebookMetadata": {
    "mostRecentlyExecutedCommandWithImplicitDF": {
     "commandId": 7076273312561489,
     "dataframes": [
      "_sqldf"
     ]
    },
    "pythonIndentUnit": 4
   },
   "notebookName": "Projeto Final PMD",
   "widgets": {}
  },
  "kernelspec": {
   "display_name": "Python 3 (ipykernel)",
   "language": "python",
   "name": "python3"
  },
  "language_info": {
   "codemirror_mode": {
    "name": "ipython",
    "version": 3
   },
   "file_extension": ".py",
   "mimetype": "text/x-python",
   "name": "python",
   "nbconvert_exporter": "python",
   "pygments_lexer": "ipython3",
   "version": "3.13.5"
  }
 },
 "nbformat": 4,
 "nbformat_minor": 4
}
