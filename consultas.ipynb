{
 "cells": [
  {
   "cell_type": "markdown",
   "metadata": {
    "application/vnd.databricks.v1+cell": {
     "cellMetadata": {},
     "inputWidgets": {},
     "nuid": "f55294e7-ce7a-4343-a6b2-f8665816611e",
     "showTitle": false,
     "tableResultSettingsMap": {},
     "title": ""
    }
   },
   "source": [
    "# Recomendação de músicas e filmes"
   ]
  },
  {
   "cell_type": "markdown",
   "metadata": {
    "application/vnd.databricks.v1+cell": {
     "cellMetadata": {},
     "inputWidgets": {},
     "nuid": "2a90efd8-24d2-4abf-bb08-5366e065b791",
     "showTitle": false,
     "tableResultSettingsMap": {},
     "title": ""
    }
   },
   "source": [
    "## Preparação do ambiente"
   ]
  },
  {
   "cell_type": "code",
   "execution_count": 0,
   "metadata": {
    "application/vnd.databricks.v1+cell": {
     "cellMetadata": {
      "byteLimit": 2048000,
      "rowLimit": 10000
     },
     "inputWidgets": {},
     "nuid": "e8297d55-e320-4ef3-b1aa-07e6c5751027",
     "showTitle": false,
     "tableResultSettingsMap": {},
     "title": ""
    }
   },
   "outputs": [],
   "source": [
    "from pyspark.sql import SparkSession\n",
    "from pyspark.sql.functions import col, udf, explode, from_json\n",
    "from pyspark.sql.types import StringType, ArrayType, IntegerType, StructType, StructField\n",
    "from re import sub"
   ]
  },
  {
   "cell_type": "code",
   "execution_count": 0,
   "metadata": {
    "application/vnd.databricks.v1+cell": {
     "cellMetadata": {
      "byteLimit": 2048000,
      "rowLimit": 10000
     },
     "inputWidgets": {},
     "nuid": "eb16b3a2-ea17-4b01-8927-c9c9ae94c3c9",
     "showTitle": false,
     "tableResultSettingsMap": {},
     "title": ""
    }
   },
   "outputs": [],
   "source": [
    "# Conexão com o Neo4j\n",
    "neo4j_url = \"\" # insira a URL da sua instância no neo4j\n",
    "neo4j_user = \"\" # insira o usuário da sua instância no neo4j\n",
    "neo4j_password = \"\" # insira a senha da sua instância do neo4j\n",
    "dbname = \"\" # insira o nome do seu banco de dados do Neo4j\n",
    "connector_path = \"\" # insira o caminho do conector específico para a versão para o Apache Spark instalado"
   ]
  },
  {
   "cell_type": "code",
   "execution_count": 0,
   "metadata": {
    "application/vnd.databricks.v1+cell": {
     "cellMetadata": {
      "byteLimit": 2048000,
      "rowLimit": 10000
     },
     "inputWidgets": {},
     "nuid": "99ef79f8-59da-493b-981c-4a1cb82b8b46",
     "showTitle": false,
     "tableResultSettingsMap": {},
     "title": ""
    }
   },
   "outputs": [],
   "source": [
    "spark = (\n",
    "    SparkSession.builder.config(\"neo4j.url\", neo4j_url)\n",
    "    .config(\"neo4j.authentication.basic.username\", neo4j_user)\n",
    "    .config(\"neo4j.authentication.basic.password\", neo4j_password)\n",
    "    .config(\"neo4j.database\", dbname)\n",
    "    .config(\"spark.jars\", connector_path)\n",
    "    .getOrCreate()\n",
    ")"
   ]
  },
  {
   "cell_type": "markdown",
   "metadata": {
    "application/vnd.databricks.v1+cell": {
     "cellMetadata": {},
     "inputWidgets": {},
     "nuid": "cc8af05c-7d28-436d-9095-1e9478f7e791",
     "showTitle": false,
     "tableResultSettingsMap": {},
     "title": ""
    }
   },
   "source": [
    "## Consultas"
   ]
  },
  {
   "cell_type": "markdown",
   "metadata": {
    "application/vnd.databricks.v1+cell": {
     "cellMetadata": {},
     "inputWidgets": {},
     "nuid": "f0deb16d-4fb4-476e-8186-62223052177b",
     "showTitle": false,
     "tableResultSettingsMap": {},
     "title": ""
    }
   },
   "source": [
    "> 1. Recomendação de músicas baseadas em um filme específico, correlacionando o dataset de filmes e o dataset de trilhas sonoras (pelo nome do filme) com o dataset de músicas, para então recomendar músicas similares através dos atributos de músicas similares do dataset de músicas."
   ]
  },
  {
   "cell_type": "code",
   "execution_count": 0,
   "metadata": {
    "application/vnd.databricks.v1+cell": {
     "cellMetadata": {},
     "inputWidgets": {},
     "nuid": "1e697fdb-ae77-4e43-95d9-8df6f788d821",
     "showTitle": false,
     "tableResultSettingsMap": {},
     "title": ""
    }
   },
   "outputs": [],
   "source": [
    "movie_name = \"The Wolf of Wall Street\"\n",
    "\n",
    "query = f\"\"\"\n",
    "    // Músicas da trilha sonora\n",
    "    MATCH (m:Movie {{title: \"{movie_name}\"}})-[:SOUNDTRACK]->(s:Song)\n",
    "    RETURN DISTINCT s.song AS Música, s.artist AS Artista\n",
    "    \n",
    "    UNION\n",
    "    \n",
    "    // Músicas similares às da trilha sonora\n",
    "    MATCH (m:Movie {{title: \"{movie_name}\"}})-[:SOUNDTRACK]->(s:Song)\n",
    "    MATCH (s)-[:SIMILAR]->(recommended:Song)\n",
    "    RETURN DISTINCT recommended.song AS Música, recommended.artist AS Artista\n",
    "\"\"\"\n",
    "\n",
    "spark.read.format(\"org.neo4j.spark.DataSource\") \\\n",
    "\t.option(\"query\", query) \\\n",
    "\t.load() \\\n",
    "\t.show(truncate=False)"
   ]
  },
  {
   "cell_type": "markdown",
   "metadata": {
    "application/vnd.databricks.v1+cell": {
     "cellMetadata": {},
     "inputWidgets": {},
     "nuid": "5ad9be3f-d473-4e83-a100-d4d96ab7508f",
     "showTitle": false,
     "tableResultSettingsMap": {},
     "title": ""
    }
   },
   "source": [
    "> 2. Recomendações de músicas similares, utilizando atributos diversos (emoção, gênero, explicidade) do dataset de músicas."
   ]
  },
  {
   "cell_type": "code",
   "execution_count": 0,
   "metadata": {
    "application/vnd.databricks.v1+cell": {
     "cellMetadata": {},
     "inputWidgets": {},
     "nuid": "b54185a2-be04-4926-acde-b71869ba52c0",
     "showTitle": false,
     "tableResultSettingsMap": {},
     "title": ""
    }
   },
   "outputs": [],
   "source": [
    "# Consulta de músicas similares por emoção, artistas e músicas similares:\n",
    "song_id = \"pyre\"\n",
    "\n",
    "query = f\"\"\"\n",
    "    MATCH (s:Song {{song_id: \"{song_id}\"}})-[:DESPERTA]-(e:Emotion)\n",
    "    MATCH (s2:Song)-[:DESPERTA]-(e)\n",
    "    WHERE \n",
    "    s2.explicit = s.explicit AND s2.song_id <> s.song_id\n",
    "    RETURN s2.song, s2.explicit, s2.emotion, s2.artist LIMIT 5\n",
    "\n",
    "    UNION\n",
    "\n",
    "    MATCH (s:Song {{song_id: \"{song_id}\"}})-[:INTERPRETADA_POR]-(a:Artist)\n",
    "    MATCH (s2:Song)-[:INTERPRETADA_POR]-(a)\n",
    "    WHERE \n",
    "    a.artist_name = s2.artist AND s.song_id <> s2.song_id AND s2.explicit = s.explicit\n",
    "    RETURN s2.song, s2.explicit, s2.emotion, s2.artist LIMIT 5\n",
    "\n",
    "    UNION\n",
    "\n",
    "    MATCH (s:Song {{song_id: \"{song_id}\"}})-[:SIMILAR]-(s2:Song)\n",
    "    WHERE\n",
    "    s2.explicit = s.explicit AND s.song_id <> s2.song_id\n",
    "    RETURN s2.song, s2.explicit, s2.emotion, s2.artist\n",
    "\"\"\"\n",
    "\n",
    "spark.read.format(\"org.neo4j.spark.DataSource\") \\\n",
    "\t.option(\"query\", query) \\\n",
    "\t.load() \\\n",
    "\t.show(truncate=False)"
   ]
  },
  {
   "cell_type": "markdown",
   "metadata": {
    "application/vnd.databricks.v1+cell": {
     "cellMetadata": {},
     "inputWidgets": {},
     "nuid": "2e006e69-a714-468e-a5bf-16917823a1e9",
     "showTitle": false,
     "tableResultSettingsMap": {},
     "title": ""
    }
   },
   "source": [
    "> 3. Recomendações de filmes similares, utilizando atributos diversos (gênero, linguagem, explicidade) do dataset de filmes."
   ]
  },
  {
   "cell_type": "code",
   "execution_count": 0,
   "metadata": {
    "application/vnd.databricks.v1+cell": {
     "cellMetadata": {},
     "inputWidgets": {},
     "nuid": "751a6a2e-a6f9-40e7-ac6b-d30bc4e2aad8",
     "showTitle": false,
     "tableResultSettingsMap": {},
     "title": ""
    }
   },
   "outputs": [],
   "source": [
    "# Consulta de filmes similares por gênero\n",
    "identifierByName = \"anidealhusband\"\n",
    "\n",
    "query = f\"\"\"\n",
    "    MATCH (m:Movie {{identifierByName: \"{identifierByName}\"}})-[:HAS_GENRE]-(g:MovieGenre)\n",
    "    MATCH (m2:Movie)-[:HAS_GENRE]-(g)\n",
    "    WHERE\n",
    "        m2.identifierByName <> m.identifierByName\n",
    "    RETURN m2.title as Filme, g.genre_name as Gênero\n",
    "\"\"\"\n",
    "\n",
    "spark.read.format(\"org.neo4j.spark.DataSource\") \\\n",
    "\t.option(\"query\", query) \\\n",
    "\t.load() \\\n",
    "\t.show(truncate=False)\n",
    "\n",
    "# Consultas de filmes similares por diretor:\n",
    "query = f\"\"\"\n",
    "    MATCH (m:Movie {{identifierByName: \"{identifierByName}\"}})-[:DIRECTED]-(d:Director)\n",
    "    MATCH (m2:Movie)-[:DIRECTED]-(d)\n",
    "    WHERE\n",
    "        m2.identifierByName <> m.identifierByName\n",
    "    RETURN m2.title as Filme, d.director_name as Diretor\n",
    "\"\"\"\n",
    "\n",
    "spark.read.format(\"org.neo4j.spark.DataSource\") \\\n",
    "\t.option(\"query\", query) \\\n",
    "\t.load() \\\n",
    "\t.show(truncate=False)"
   ]
  },
  {
   "cell_type": "markdown",
   "metadata": {
    "application/vnd.databricks.v1+cell": {
     "cellMetadata": {},
     "inputWidgets": {},
     "nuid": "e6b05a42-c4f0-44a1-b17e-0b45c88ea429",
     "showTitle": false,
     "tableResultSettingsMap": {},
     "title": ""
    }
   },
   "source": [
    "> 4. Encontrar músicas que tocam em filmes de um diretor específico, usando atributo de diretor do dataset de filmes, atrelado ao datasets de trilhas sonororas."
   ]
  },
  {
   "cell_type": "code",
   "execution_count": 0,
   "metadata": {
    "application/vnd.databricks.v1+cell": {
     "cellMetadata": {},
     "inputWidgets": {},
     "nuid": "089c135c-e63f-47e9-8836-b4a153cda3ec",
     "showTitle": false,
     "tableResultSettingsMap": {},
     "title": ""
    }
   },
   "outputs": [],
   "source": [
    "director_name = \"Edward L. Cahn\"\n",
    "\n",
    "query = f\"\"\"\n",
    "\tMATCH (d:Director)-[:DIRECTED]-(m:Movie)-[:SOUNDTRACK]-(s:Song)-[:INTERPRETADA_POR]-(a:Artist)\n",
    "\tWHERE d.director_name = \"{director_name}\"\n",
    "\tRETURN s.song as Música, s.album as Álbum, a.artist_name as Artista, m.title as Filme\n",
    "\"\"\"\n",
    "\n",
    "spark.read.format(\"org.neo4j.spark.DataSource\") \\\n",
    "\t.option(\"query\", query) \\\n",
    "\t.load() \\\n",
    "\t.show(truncate=False)"
   ]
  },
  {
   "cell_type": "markdown",
   "metadata": {
    "application/vnd.databricks.v1+cell": {
     "cellMetadata": {},
     "inputWidgets": {},
     "nuid": "43ab4113-ed39-4707-b565-abcf67304ae3",
     "showTitle": false,
     "tableResultSettingsMap": {},
     "title": ""
    }
   },
   "source": [
    "> 5. Ligar emoções à filmes específicos, utilizando a combinação do dataset de filmes e trilhas sonoras para atrelar o atributo emoções (do dataset de músicas) à filmes individuais."
   ]
  },
  {
   "cell_type": "code",
   "execution_count": 0,
   "metadata": {
    "application/vnd.databricks.v1+cell": {
     "cellMetadata": {},
     "inputWidgets": {},
     "nuid": "428e8ba4-b5bf-4874-8f8e-837f2efced37",
     "showTitle": false,
     "tableResultSettingsMap": {},
     "title": ""
    }
   },
   "outputs": [],
   "source": [
    "movie_name = \"The Wolf of Wall Street\"\n",
    "\n",
    "query = f\"\"\"\n",
    "\tMATCH (e:Emotion)-[:DESPERTA]-(s:Song)-[:SOUNDTRACK]-(m:Movie)\n",
    "\tWHERE m.title = \"{movie_name}\"\n",
    "\tRETURN e.emotion as Emoção, s.song as Música\n",
    "\"\"\"\n",
    "\n",
    "spark.read.format(\"org.neo4j.spark.DataSource\") \\\n",
    "\t.option(\"query\", query) \\\n",
    "\t.load() \\\n",
    "\t.show(truncate=False)"
   ]
  }
 ],
 "metadata": {
  "application/vnd.databricks.v1+notebook": {
   "computePreferences": null,
   "dashboards": [],
   "environmentMetadata": {
    "base_environment": "",
    "environment_version": "2"
   },
   "inputWidgetPreferences": null,
   "language": "python",
   "notebookMetadata": {
    "mostRecentlyExecutedCommandWithImplicitDF": {
     "commandId": 7076273312561489,
     "dataframes": [
      "_sqldf"
     ]
    },
    "pythonIndentUnit": 4
   },
   "notebookName": "consultas",
   "widgets": {}
  },
  "kernelspec": {
   "display_name": "Python 3 (ipykernel)",
   "language": "python",
   "name": "python3"
  },
  "language_info": {
   "name": "python"
  }
 },
 "nbformat": 4,
 "nbformat_minor": 0
}
