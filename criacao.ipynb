{
 "cells": [
  {
   "cell_type": "markdown",
   "metadata": {
    "application/vnd.databricks.v1+cell": {
     "cellMetadata": {},
     "inputWidgets": {},
     "nuid": "f55294e7-ce7a-4343-a6b2-f8665816611e",
     "showTitle": false,
     "tableResultSettingsMap": {},
     "title": ""
    }
   },
   "source": [
    "# Recomendação de músicas e filmes"
   ]
  },
  {
   "cell_type": "markdown",
   "metadata": {
    "application/vnd.databricks.v1+cell": {
     "cellMetadata": {},
     "inputWidgets": {},
     "nuid": "753e309a-8c5d-4537-9e02-5984fdad702b",
     "showTitle": false,
     "tableResultSettingsMap": {},
     "title": ""
    }
   },
   "source": [
    "### Movies Dataset"
   ]
  },
  {
   "cell_type": "markdown",
   "metadata": {
    "application/vnd.databricks.v1+cell": {
     "cellMetadata": {},
     "inputWidgets": {},
     "nuid": "880794bc-a3fd-4a8d-88e6-7abd937b20aa",
     "showTitle": false,
     "tableResultSettingsMap": {},
     "title": ""
    }
   },
   "source": [
    "#### Importação de bibliotecas"
   ]
  },
  {
   "cell_type": "code",
   "execution_count": null,
   "metadata": {
    "application/vnd.databricks.v1+cell": {
     "cellMetadata": {
      "byteLimit": 2048000,
      "rowLimit": 10000
     },
     "inputWidgets": {},
     "nuid": "e8297d55-e320-4ef3-b1aa-07e6c5751027",
     "showTitle": false,
     "tableResultSettingsMap": {},
     "title": ""
    }
   },
   "outputs": [],
   "source": [
    "from pyspark.sql import SparkSession\n",
    "from pyspark.sql.functions import col, udf, explode, from_json\n",
    "from pyspark.sql.types import StringType, ArrayType, IntegerType, StructType, StructField\n",
    "from re import sub"
   ]
  },
  {
   "cell_type": "markdown",
   "metadata": {
    "application/vnd.databricks.v1+cell": {
     "cellMetadata": {},
     "inputWidgets": {},
     "nuid": "50f0c0f7-825c-404c-8bf8-24dcbc2abf27",
     "showTitle": false,
     "tableResultSettingsMap": {},
     "title": ""
    }
   },
   "source": [
    "#### Constantes"
   ]
  },
  {
   "cell_type": "code",
   "execution_count": null,
   "metadata": {
    "application/vnd.databricks.v1+cell": {
     "cellMetadata": {
      "byteLimit": 2048000,
      "rowLimit": 10000
     },
     "inputWidgets": {},
     "nuid": "eb16b3a2-ea17-4b01-8927-c9c9ae94c3c9",
     "showTitle": false,
     "tableResultSettingsMap": {},
     "title": ""
    }
   },
   "outputs": [],
   "source": [
    "# Caminho dos datasets\n",
    "movies_metadata_path = \"../datasets/movies_metadata.csv\"\n",
    "movies_credits_path = \"../datasets/movies_credits.csv\"\n",
    "spotify_path = \"../datasets/spotify_dataset.csv\"\n",
    "soundtrack_path = \"../datasets/sound_track_imdb_top_250_movie_tv_series.csv\"\n",
    "# movies_metadata_path = \"dbfs:/FileStore/shared_uploads/beatrizpatricio@estudante.ufscar.br/movies_metadata.csv\"\n",
    "# movies_credits_path = \"dbfs:/FileStore/shared_uploads/beatrizpatricio@estudante.ufscar.br/credits.csv\"\n",
    "\n",
    "# Conexão com o Neo4j\n",
    "neo4j_url = \"neo4j://localhost:7687\"\n",
    "neo4j_user = \"neo4j\"\n",
    "neo4j_password = \"sparkneo4j\"\n",
    "dbname = \"neo4j\"\n",
    "connector_path = \"../neo4j-spark-connector-5.3.8-s_2.13.jar\"\n",
    "\n",
    "# Meu Neo4j\n",
    "#neo4j_url = \"neo4j+s://90016f46.databases.neo4j.io\"  # ou bolt+s://<host>.databases.neo4j.io para AuraDB neo4j+s://90016f46.databases.neo4j.io\n",
    "#neo4j_user = \"neo4j\"\n",
    "#neo4j_password = \"iA5r3A7HdNjl084_m47abMkDF6SlUpm1n2jVG7bR6HY\"\n"
   ]
  },
  {
   "cell_type": "markdown",
   "metadata": {
    "application/vnd.databricks.v1+cell": {
     "cellMetadata": {
      "byteLimit": 2048000,
      "rowLimit": 10000
     },
     "inputWidgets": {},
     "nuid": "b071d400-6ca4-47f7-a514-63b6bb226646",
     "showTitle": false,
     "tableResultSettingsMap": {},
     "title": ""
    }
   },
   "source": [
    "#### Preparação da conexão com o Neo4j"
   ]
  },
  {
   "cell_type": "code",
   "execution_count": null,
   "metadata": {
    "application/vnd.databricks.v1+cell": {
     "cellMetadata": {
      "byteLimit": 2048000,
      "rowLimit": 10000
     },
     "inputWidgets": {},
     "nuid": "99ef79f8-59da-493b-981c-4a1cb82b8b46",
     "showTitle": false,
     "tableResultSettingsMap": {},
     "title": ""
    }
   },
   "outputs": [],
   "source": [
    "spark = (\n",
    "    SparkSession.builder.config(\"neo4j.url\", neo4j_url)\n",
    "    .config(\"neo4j.authentication.basic.username\", neo4j_user)\n",
    "    .config(\"neo4j.authentication.basic.password\", neo4j_password)\n",
    "    .config(\"neo4j.database\", dbname)\n",
    "    .config(\"spark.jars\", connector_path)\n",
    "    .getOrCreate()\n",
    ")"
   ]
  },
  {
   "cell_type": "markdown",
   "metadata": {
    "application/vnd.databricks.v1+cell": {
     "cellMetadata": {
      "byteLimit": 2048000,
      "rowLimit": 10000
     },
     "inputWidgets": {},
     "nuid": "c154ad48-3541-467f-b455-9ec1a7e541c0",
     "showTitle": false,
     "tableResultSettingsMap": {},
     "title": ""
    }
   },
   "source": [
    "### 1. Leitura do dataset de metadata"
   ]
  },
  {
   "cell_type": "code",
   "execution_count": null,
   "metadata": {
    "application/vnd.databricks.v1+cell": {
     "cellMetadata": {
      "byteLimit": 2048000,
      "rowLimit": 10000
     },
     "inputWidgets": {},
     "nuid": "780075d3-dc4e-4752-9b3a-ce0b87ba84b6",
     "showTitle": false,
     "tableResultSettingsMap": {},
     "title": ""
    }
   },
   "outputs": [],
   "source": [
    "def getMetadataDataset ():\n",
    "    df_metadata = (spark.read\n",
    "        .format(\"csv\")\n",
    "        .option(\"mode\", \"DROPMALFORMED\")\n",
    "        .option(\"header\", True)\n",
    "        .option(\"inferSchema\", True)\n",
    "        .load(movies_metadata_path)\n",
    "    )\n",
    "\n",
    "    return df_metadata\n",
    "\n",
    "df_metadata = getMetadataDataset()\n",
    "df_metadata.printSchema()\n",
    "print(f\"{df_metadata.count()} linhas\")\n",
    "df_metadata.first()"
   ]
  },
  {
   "cell_type": "markdown",
   "metadata": {
    "application/vnd.databricks.v1+cell": {
     "cellMetadata": {
      "byteLimit": 2048000,
      "rowLimit": 10000
     },
     "inputWidgets": {},
     "nuid": "b22c3b80-3ba0-4b31-9dc3-735fec915fd6",
     "showTitle": false,
     "tableResultSettingsMap": {},
     "title": ""
    }
   },
   "source": [
    "### 2. Criação da coluna de identificador"
   ]
  },
  {
   "cell_type": "code",
   "execution_count": null,
   "metadata": {
    "application/vnd.databricks.v1+cell": {
     "cellMetadata": {
      "byteLimit": 2048000,
      "rowLimit": 10000
     },
     "inputWidgets": {},
     "nuid": "3ff45510-9657-4a53-92c6-de9820920086",
     "showTitle": false,
     "tableResultSettingsMap": {},
     "title": ""
    }
   },
   "outputs": [],
   "source": [
    "def getIdentifierName (title):\n",
    "    if title:\n",
    "        return sub(r'[^a-zA-Z0-9]', '', title).lower().strip()\n",
    "    return None\n",
    "\n",
    "def addIdentifierColumn (df_metadata):\n",
    "    getIdentifierNameUdf = udf(getIdentifierName, StringType())\n",
    "    return df_metadata.withColumn(\"identifierByName\", getIdentifierNameUdf(df_metadata['title'])) \\\n",
    "        .withColumn(\"movie_id\", col(\"id\"))\n",
    "\n",
    "df_metadata = addIdentifierColumn(df_metadata)\n",
    "print(f\"Exemplo de identificador para o filme '{df_metadata.first()['title']}': {df_metadata.first()['identifierByName']}\")"
   ]
  },
  {
   "cell_type": "markdown",
   "metadata": {
    "application/vnd.databricks.v1+cell": {
     "cellMetadata": {
      "byteLimit": 2048000,
      "rowLimit": 10000
     },
     "inputWidgets": {},
     "nuid": "f890433d-7220-411e-ba3c-94966b2c0efb",
     "showTitle": false,
     "tableResultSettingsMap": {},
     "title": ""
    }
   },
   "source": [
    "### 3. Remoção de colunas que não interessam para o projeto\n",
    "\n",
    "_As colunas remanescentes são: id, title, genres, identifierByName e imdb\\_id_"
   ]
  },
  {
   "cell_type": "code",
   "execution_count": null,
   "metadata": {
    "application/vnd.databricks.v1+cell": {
     "cellMetadata": {
      "byteLimit": 2048000,
      "rowLimit": 10000
     },
     "inputWidgets": {},
     "nuid": "d6e4e95b-69ef-4f4e-aec5-e09644848e67",
     "showTitle": false,
     "tableResultSettingsMap": {},
     "title": ""
    }
   },
   "outputs": [],
   "source": [
    "def dropColumns (df_metadata):\n",
    "    columnsToDrop = [\n",
    "        \"adult\",\n",
    "        \"belongs_to_collection\",\n",
    "        \"budget\",\n",
    "        \"homepage\",\n",
    "        \"original_language\",\n",
    "        \"original_title\",\n",
    "        \"overview\",\n",
    "        \"popularity\",\n",
    "        \"poster_path\",\n",
    "        \"production_companies\",\n",
    "        \"production_countries\",\n",
    "        \"revenue\",\n",
    "        \"runtime\",\n",
    "        \"spoken_languages\",\n",
    "        \"status\",\n",
    "        \"tagline\",\n",
    "        \"video\",\n",
    "        \"vote_average\",\n",
    "        \"vote_count\",\n",
    "        \"id\",\n",
    "        \"imdb_id\"\n",
    "    ]\n",
    "\n",
    "    return df_metadata.drop(*columnsToDrop)\n",
    "\n",
    "df_metadata = dropColumns(df_metadata)\n",
    "df_metadata.printSchema()\n",
    "print()\n",
    "print(df_metadata.first())"
   ]
  },
  {
   "cell_type": "markdown",
   "metadata": {
    "application/vnd.databricks.v1+cell": {
     "cellMetadata": {
      "byteLimit": 2048000,
      "rowLimit": 10000
     },
     "inputWidgets": {},
     "nuid": "a4ac968c-1ca8-4962-8fb9-62b1bdca4f48",
     "showTitle": false,
     "tableResultSettingsMap": {},
     "title": ""
    }
   },
   "source": [
    "### 4. Remoção de linhas sem título ou identificador, e com data de lançamento mal-formada"
   ]
  },
  {
   "cell_type": "code",
   "execution_count": null,
   "metadata": {
    "application/vnd.databricks.v1+cell": {
     "cellMetadata": {
      "byteLimit": 2048000,
      "rowLimit": 10000
     },
     "inputWidgets": {},
     "nuid": "cf59de57-7502-41cf-adac-6685dcc52f83",
     "showTitle": false,
     "tableResultSettingsMap": {},
     "title": ""
    }
   },
   "outputs": [],
   "source": [
    "def dropRows (df_metadata):\n",
    "    df_metadata = df_metadata.distinct()\n",
    "    df_metadata = df_metadata.na.drop(\"all\")\n",
    "    df_metadata = df_metadata.filter(col(\"release_date\").rlike(r'\\d{4}-\\d{2}-\\d{2}'))\n",
    "    df_metadata = df_metadata.filter((col(\"title\").isNotNull()) & (col(\"title\").cast(\"string\") == col(\"title\")))\n",
    "    return df_metadata\n",
    "\n",
    "print(df_metadata.count(), \" linhas originalmente\")\n",
    "df_metadata = dropRows(df_metadata)\n",
    "print(df_metadata.count(), \" linhas após remoção\")"
   ]
  },
  {
   "cell_type": "markdown",
   "metadata": {
    "application/vnd.databricks.v1+cell": {
     "cellMetadata": {
      "byteLimit": 2048000,
      "rowLimit": 10000
     },
     "inputWidgets": {},
     "nuid": "d1aff508-6462-4706-96e1-841767e427ed",
     "showTitle": false,
     "tableResultSettingsMap": {},
     "title": ""
    }
   },
   "source": [
    "### 5. Leitura do dataset de créditos"
   ]
  },
  {
   "cell_type": "code",
   "execution_count": null,
   "metadata": {
    "application/vnd.databricks.v1+cell": {
     "cellMetadata": {
      "byteLimit": 2048000,
      "rowLimit": 10000
     },
     "inputWidgets": {},
     "nuid": "aabff7db-b7dd-489b-a781-411a5f105dbc",
     "showTitle": false,
     "tableResultSettingsMap": {},
     "title": ""
    }
   },
   "outputs": [],
   "source": [
    "def getCreditsDataset():\n",
    "    df_credits = (\n",
    "        spark.read\n",
    "        .format(\"csv\")\n",
    "        .option(\"mode\", \"DROPMALFORMED\")\n",
    "        .option(\"header\", True)\n",
    "        .option(\"inferSchema\", True)\n",
    "        .load(movies_credits_path)\n",
    "    )\n",
    "\n",
    "    return df_credits.filter(~col(\"id\").rlike(r'\\D+'))\n",
    "\n",
    "df_credits = getCreditsDataset()\n",
    "df_credits.printSchema()\n",
    "print(f\"\\t{df_credits.count()} linhas\")"
   ]
  },
  {
   "cell_type": "markdown",
   "metadata": {
    "application/vnd.databricks.v1+cell": {
     "cellMetadata": {
      "byteLimit": 2048000,
      "rowLimit": 10000
     },
     "inputWidgets": {},
     "nuid": "e4f74109-99cb-48fd-810d-f5c6870eea04",
     "showTitle": false,
     "tableResultSettingsMap": {},
     "title": ""
    }
   },
   "source": [
    "### 6. Criação do dataframe de Diretores/Filmes"
   ]
  },
  {
   "cell_type": "code",
   "execution_count": null,
   "metadata": {
    "application/vnd.databricks.v1+cell": {
     "cellMetadata": {
      "byteLimit": 2048000,
      "rowLimit": 10000
     },
     "inputWidgets": {},
     "nuid": "b52c4c64-0b46-41e8-a012-eaff1d35ea5c",
     "showTitle": false,
     "tableResultSettingsMap": {},
     "title": ""
    }
   },
   "outputs": [],
   "source": [
    "def getDirectorsDataFrame (df_credits):\n",
    "    crew_schema = ArrayType(\n",
    "        StructType([\n",
    "            StructField(\"credit_id\", StringType()),\n",
    "            StructField(\"department\", StringType()),\n",
    "            StructField(\"gender\", IntegerType()),\n",
    "            StructField(\"id\", IntegerType()),\n",
    "            StructField(\"job\", StringType()),\n",
    "            StructField(\"name\", StringType()),\n",
    "            StructField(\"profile_path\", StringType())\n",
    "        ])\n",
    "    )\n",
    "\n",
    "    df_with_crew = df_credits.withColumn(\"crew_array\", from_json(col(\"crew\"), crew_schema))\n",
    "    df_exploded = df_with_crew.withColumn(\"crew_member\", explode(\"crew_array\"))\n",
    "\n",
    "    return (\n",
    "        df_exploded\n",
    "        .filter(col(\"crew_member.job\") == \"Director\")\n",
    "        .select(\n",
    "            col(\"crew_member.name\").alias(\"director_name\"),\n",
    "            col(\"id\").alias(\"movie_id\")\n",
    "        )\n",
    "    )\n",
    "\n",
    "df_directors = getDirectorsDataFrame(df_credits)\n",
    "df_directors.show(truncate=False)\n",
    "print(f\"\\t{df_directors.count()} linhas\")"
   ]
  },
  {
   "cell_type": "markdown",
   "metadata": {
    "application/vnd.databricks.v1+cell": {
     "cellMetadata": {
      "byteLimit": 2048000,
      "rowLimit": 10000
     },
     "inputWidgets": {},
     "nuid": "049378f7-14be-4121-9488-1c19297880ba",
     "showTitle": false,
     "tableResultSettingsMap": {},
     "title": ""
    }
   },
   "source": [
    "### 7. Criação do dataframes de gêneros\n",
    "_Também é dropada a coluna de gêneros do dataframe original_"
   ]
  },
  {
   "cell_type": "code",
   "execution_count": null,
   "metadata": {
    "application/vnd.databricks.v1+cell": {
     "cellMetadata": {
      "byteLimit": 2048000,
      "rowLimit": 10000
     },
     "inputWidgets": {},
     "nuid": "aff9f031-a48c-49cd-94cd-e71e1f7eace1",
     "showTitle": false,
     "tableResultSettingsMap": {},
     "title": ""
    }
   },
   "outputs": [],
   "source": [
    "def getGenres(df_metadata):\n",
    "  genres_schema = ArrayType(\n",
    "    StructType([\n",
    "      StructField(\"id\", IntegerType(), True),\n",
    "      StructField(\"name\", StringType(), True)\n",
    "    ])\n",
    "  )\n",
    "\n",
    "  df_parsed = df_metadata.withColumn(\"genres_json\", from_json(col(\"genres\"), genres_schema))\n",
    "  df_exploded = df_parsed.withColumn(\"genre\", explode(col(\"genres_json\")))\n",
    "\n",
    "  df_genres_movies = df_exploded.select(\n",
    "    col(\"movie_id\"),\n",
    "    col(\"genre.id\").alias(\"genre_id\"),\n",
    "    col(\"genre.name\").alias(\"genre_name\")\n",
    "  )\n",
    "\n",
    "  df_genres = df_genres_movies.select(\"genre_id\", \"genre_name\").distinct()\n",
    "\n",
    "  return df_genres_movies, df_genres\n",
    "\n",
    "df_genres_movies, df_genres = getGenres(df_metadata)\n",
    "df_metadata = df_metadata.drop(\"genres\")\n",
    "\n",
    "df_genres_movies.show(truncate=False)\n",
    "print(f\"\\t{df_genres_movies.count()} linhas\")\n",
    "\n",
    "df_genres.show(truncate=False)\n",
    "print(f\"\\t{df_genres.count()} linhas\")"
   ]
  },
  {
   "cell_type": "markdown",
   "metadata": {
    "application/vnd.databricks.v1+cell": {
     "cellMetadata": {
      "byteLimit": 2048000,
      "rowLimit": 10000
     },
     "inputWidgets": {},
     "nuid": "fefcdee2-3659-4642-a607-71bcf2c93a61",
     "showTitle": false,
     "tableResultSettingsMap": {},
     "title": ""
    }
   },
   "source": [
    "### 8. Criação do Dataframe de filmes (união do df de metadata e de diretores)\n",
    "_Também é dropada a coluna de movie_id do dataframe de diretores_"
   ]
  },
  {
   "cell_type": "code",
   "execution_count": null,
   "metadata": {
    "application/vnd.databricks.v1+cell": {
     "cellMetadata": {
      "byteLimit": 2048000,
      "rowLimit": 10000
     },
     "inputWidgets": {},
     "nuid": "d09f86e4-8c70-42d9-b07d-ca6ee78537cc",
     "showTitle": false,
     "tableResultSettingsMap": {},
     "title": ""
    }
   },
   "outputs": [],
   "source": [
    "def getFinalMovieDataFrame (df_metadata, df_directors):\n",
    "    return df_metadata.join(\n",
    "        df_directors,\n",
    "        on = df_metadata[\"movie_id\"] == df_directors[\"movie_id\"],\n",
    "        how = \"left\"\n",
    "    )\n",
    "\n",
    "df_movies = getFinalMovieDataFrame(df_metadata, df_directors)\n",
    "df_directors = df_directors.drop(\"movie_id\")"
   ]
  },
  {
   "cell_type": "code",
   "execution_count": null,
   "metadata": {
    "application/vnd.databricks.v1+cell": {
     "cellMetadata": {
      "byteLimit": 2048000,
      "rowLimit": 10000
     },
     "inputWidgets": {},
     "nuid": "e1068640-b7d5-4eef-bcce-132f9cc601f7",
     "showTitle": false,
     "tableResultSettingsMap": {},
     "title": ""
    }
   },
   "outputs": [],
   "source": [
    "df_movies.printSchema()\n",
    "print(df_movies.first())\n",
    "print()\n",
    "print(f\"Quantidade total de linhas: {df_movies.count()}\")"
   ]
  },
  {
   "cell_type": "markdown",
   "metadata": {
    "application/vnd.databricks.v1+cell": {
     "cellMetadata": {},
     "inputWidgets": {},
     "nuid": "76deb5dd-7683-4f42-9162-c1269d56304b",
     "showTitle": false,
     "tableResultSettingsMap": {},
     "title": ""
    }
   },
   "source": [
    "### Spotify dataset "
   ]
  },
  {
   "cell_type": "code",
   "execution_count": null,
   "metadata": {
    "application/vnd.databricks.v1+cell": {
     "cellMetadata": {},
     "inputWidgets": {},
     "nuid": "b10d79ae-b48f-480d-b657-11712156c749",
     "showTitle": false,
     "tableResultSettingsMap": {},
     "title": ""
    },
    "scrolled": true
   },
   "outputs": [],
   "source": [
    "def getSpotifyDataset ():\n",
    "    df_spotify = (spark.read\n",
    "        .format(\"csv\")\n",
    "        .option(\"header\", True)\n",
    "        .option(\"inferSchema\", True)\n",
    "        .load(spotify_path)\n",
    "    )\n",
    "\n",
    "    return df_spotify\n",
    "\n",
    "df_spotify = getSpotifyDataset()\n",
    "df_spotify.printSchema()\n",
    "print(f\"{df_spotify.count()} linhas\")\n",
    "df_spotify.first()"
   ]
  },
  {
   "cell_type": "markdown",
   "metadata": {
    "application/vnd.databricks.v1+cell": {
     "cellMetadata": {},
     "inputWidgets": {},
     "nuid": "b8480b56-c27f-4f37-8468-7e483e0f48f6",
     "showTitle": false,
     "tableResultSettingsMap": {},
     "title": ""
    }
   },
   "source": [
    "### Trilha sonora dataset "
   ]
  },
  {
   "cell_type": "code",
   "execution_count": null,
   "metadata": {
    "application/vnd.databricks.v1+cell": {
     "cellMetadata": {},
     "inputWidgets": {},
     "nuid": "0ad8b53d-f49e-4fa5-82a7-f728f7061bb4",
     "showTitle": false,
     "tableResultSettingsMap": {},
     "title": ""
    }
   },
   "outputs": [],
   "source": [
    "df_soundtrack = spark.read.format(\"csv\").option(\"header\", \"true\").load(soundtrack_path)\n",
    "df_soundtrack.printSchema()\n",
    "print(f\"{df_soundtrack.count()} linhas\")\n",
    "df_soundtrack.first()"
   ]
  },
  {
   "cell_type": "code",
   "execution_count": null,
   "metadata": {
    "application/vnd.databricks.v1+cell": {
     "cellMetadata": {},
     "inputWidgets": {},
     "nuid": "1fa4cfd3-3538-4841-a8c3-2c09db1cfb93",
     "showTitle": false,
     "tableResultSettingsMap": {},
     "title": ""
    }
   },
   "outputs": [],
   "source": [
    "# Substitui \"NA\" por None em todas as colunas\n",
    "df_soundtrack = df_soundtrack.replace(\"NA\", None)"
   ]
  },
  {
   "cell_type": "code",
   "execution_count": null,
   "metadata": {
    "application/vnd.databricks.v1+cell": {
     "cellMetadata": {},
     "inputWidgets": {},
     "nuid": "4849d09d-f596-4235-a024-d70ba4ca6671",
     "showTitle": false,
     "tableResultSettingsMap": {},
     "title": ""
    }
   },
   "outputs": [],
   "source": [
    "from pyspark.sql.functions import col, sum\n",
    "\n",
    "null_counts = df_soundtrack.select([\n",
    "    sum(col(c).isNull().cast(\"int\")).alias(c)\n",
    "    for c in df_soundtrack.columns\n",
    "])\n",
    "\n",
    "null_counts.show()"
   ]
  },
  {
   "cell_type": "code",
   "execution_count": null,
   "metadata": {
    "application/vnd.databricks.v1+cell": {
     "cellMetadata": {},
     "inputWidgets": {},
     "nuid": "c379924c-0107-46b8-af1a-7a12b17dc98c",
     "showTitle": false,
     "tableResultSettingsMap": {},
     "title": ""
    }
   },
   "outputs": [],
   "source": [
    "# Seleciona as primeiras 6 colunas (remove as colunas que não serão utilizadas e possuem muitos nulos)\n",
    "selected_columns = df_soundtrack.columns[:6]\n",
    "df_soundtrack = df_soundtrack.select(*selected_columns)"
   ]
  },
  {
   "cell_type": "code",
   "execution_count": null,
   "metadata": {
    "application/vnd.databricks.v1+cell": {
     "cellMetadata": {},
     "inputWidgets": {},
     "nuid": "10cf6a48-8912-42ce-b64f-12b43394816a",
     "showTitle": false,
     "tableResultSettingsMap": {},
     "title": ""
    }
   },
   "outputs": [],
   "source": [
    "from pyspark.sql.functions import regexp_replace\n",
    "# remove a marcação \"(uncredited)\" da coluna performed_by\n",
    "df_soundtrack = df_soundtrack.withColumn(\"performed_by\", regexp_replace(\"performed_by\", r\"\\(uncredited\\)\", \"\").alias(\"performed_by\"))"
   ]
  },
  {
   "cell_type": "code",
   "execution_count": null,
   "metadata": {},
   "outputs": [],
   "source": [
    "df_soundtrack.show(truncate=False)"
   ]
  },
  {
   "cell_type": "markdown",
   "metadata": {
    "application/vnd.databricks.v1+cell": {
     "cellMetadata": {
      "byteLimit": 2048000,
      "rowLimit": 10000
     },
     "inputWidgets": {},
     "nuid": "129143d0-abf8-4c5f-bc87-1f15b22f7fb9",
     "showTitle": false,
     "tableResultSettingsMap": {},
     "title": ""
    }
   },
   "source": [
    "### 8. Inserção no neo4j (filmes)"
   ]
  },
  {
   "cell_type": "code",
   "execution_count": null,
   "metadata": {
    "application/vnd.databricks.v1+cell": {
     "cellMetadata": {
      "byteLimit": 2048000,
      "rowLimit": 10000
     },
     "inputWidgets": {},
     "nuid": "64cf5712-592d-4081-bfb6-724dcc980982",
     "showTitle": false,
     "tableResultSettingsMap": {},
     "title": ""
    }
   },
   "outputs": [],
   "source": [
    "df_genres.write.format(\"org.neo4j.spark.DataSource\") \\\n",
    "    .mode(\"Overwrite\") \\\n",
    "    .option(\"labels\", \":MovieGenre\") \\\n",
    "    .option(\"node.keys\", \"genre_id\") \\\n",
    "    .save()"
   ]
  },
  {
   "cell_type": "code",
   "execution_count": null,
   "metadata": {
    "application/vnd.databricks.v1+cell": {
     "cellMetadata": {
      "byteLimit": 2048000,
      "rowLimit": 10000
     },
     "inputWidgets": {},
     "nuid": "5d8a69f0-71bb-4747-ac3a-9e05a4dc0374",
     "showTitle": false,
     "tableResultSettingsMap": {},
     "title": ""
    }
   },
   "outputs": [],
   "source": [
    "df_directors.write.format(\"org.neo4j.spark.DataSource\") \\\n",
    "    .mode(\"Overwrite\") \\\n",
    "    .option(\"labels\", \":Director\") \\\n",
    "    .option(\"node.keys\", \"director_name\") \\\n",
    "    .save()"
   ]
  },
  {
   "cell_type": "code",
   "execution_count": null,
   "metadata": {
    "application/vnd.databricks.v1+cell": {
     "cellMetadata": {
      "byteLimit": 2048000,
      "rowLimit": 10000
     },
     "inputWidgets": {},
     "nuid": "d406506f-91c4-497d-a228-a8428145bc5d",
     "showTitle": false,
     "tableResultSettingsMap": {},
     "title": ""
    }
   },
   "outputs": [],
   "source": [
    "df_metadata.write.format(\"org.neo4j.spark.DataSource\") \\\n",
    "    .mode(\"Overwrite\") \\\n",
    "    .option(\"labels\", \":Movie\") \\\n",
    "    .option(\"node.keys\", \"movie_id\") \\\n",
    "    .save()"
   ]
  },
  {
   "cell_type": "code",
   "execution_count": null,
   "metadata": {
    "application/vnd.databricks.v1+cell": {
     "cellMetadata": {
      "byteLimit": 2048000,
      "rowLimit": 10000
     },
     "inputWidgets": {},
     "nuid": "af21912a-c477-4e56-a6d7-ff26fac96761",
     "showTitle": false,
     "tableResultSettingsMap": {},
     "title": ""
    }
   },
   "outputs": [],
   "source": [
    "df_genres_movies = df_genres_movies.coalesce(1)\n",
    "\n",
    "df_genres_movies.write.format(\"org.neo4j.spark.DataSource\") \\\n",
    "    .mode(\"Append\") \\\n",
    "    .option(\"batch.size\", \"100\") \\\n",
    "    .option(\"maxTransactionRetryTime\", \"30s\") \\\n",
    "    .option(\"relationship\", \"HAS_GENRE\") \\\n",
    "    .option(\"relationship.save.strategy\", \"keys\") \\\n",
    "    .option(\"relationship.source.labels\", \":Movie\") \\\n",
    "    .option(\"relationship.target.labels\", \":MovieGenre\") \\\n",
    "    .option(\"relationship.source.node.keys\", \"movie_id\") \\\n",
    "    .option(\"relationship.target.node.keys\", \"genre_id\") \\\n",
    "    .save()"
   ]
  },
  {
   "cell_type": "code",
   "execution_count": null,
   "metadata": {
    "application/vnd.databricks.v1+cell": {
     "cellMetadata": {
      "byteLimit": 2048000,
      "rowLimit": 10000
     },
     "inputWidgets": {},
     "nuid": "23f32cc0-7f57-4fc5-974e-a22850e6cb15",
     "showTitle": false,
     "tableResultSettingsMap": {},
     "title": ""
    }
   },
   "outputs": [],
   "source": [
    "df_movies = df_movies.coalesce(1)\n",
    "\n",
    "df_movies.write.format(\"org.neo4j.spark.DataSource\") \\\n",
    "    .mode(\"Append\") \\\n",
    "    .option(\"batch.size\", \"100\") \\\n",
    "    .option(\"maxTransactionRetryTime\", \"30s\") \\\n",
    "    .option(\"relationship\", \"DIRECTED\") \\\n",
    "    .option(\"relationship.save.strategy\", \"keys\") \\\n",
    "    .option(\"relationship.source.labels\", \":Movie\") \\\n",
    "    .option(\"relationship.target.labels\", \":Director\") \\\n",
    "    .option(\"relationship.source.node.keys\", \"movie_id\") \\\n",
    "    .option(\"relationship.target.node.keys\", \"director_name\") \\\n",
    "    .save()"
   ]
  },
  {
   "cell_type": "markdown",
   "metadata": {},
   "source": [
    "### 8. Inserção no neo4j (músicas)"
   ]
  },
  {
   "cell_type": "code",
   "execution_count": null,
   "metadata": {},
   "outputs": [],
   "source": [
    "df_spotify.write.format(\"org.neo4j.spark.DataSource\") \\\n",
    "    .mode(\"Overwrite\") \\\n",
    "    .option(\"labels\", \":Song\") \\\n",
    "    .option(\"node.keys\", \"song_id\") \\\n",
    "    .save()"
   ]
  },
  {
   "cell_type": "markdown",
   "metadata": {},
   "source": [
    "### Inserção no neo4j (Trilhas Sonóras)"
   ]
  },
  {
   "cell_type": "code",
   "execution_count": null,
   "metadata": {},
   "outputs": [],
   "source": [
    "df_soundtracks = df_soundtracks.coalesce(1)\n",
    "\n",
    "df_soundtracks.write.format(\"org.neo4j.spark.DataSource\") \\\n",
    "    .mode(\"Append\") \\\n",
    "    .option(\"batch.size\", \"100\") \\\n",
    "    .option(\"maxTransactionRetryTime\", \"30s\") \\\n",
    "    .option(\"relationship\", \"SOUNDTRACK\") \\\n",
    "    .option(\"relationship.save.strategy\", \"keys\") \\\n",
    "    .option(\"relationship.source.labels\", \":Movie\") \\\n",
    "    .option(\"relationship.target.labels\", \":Song\") \\\n",
    "    .option(\"relationship.source.node.keys\", \"name:title\") \\\n",
    "    .option(\"relationship.target.node.keys\", \"song_name:name\") \\\n",
    "    .save()"
   ]
  }
 ],
 "metadata": {
  "application/vnd.databricks.v1+notebook": {
   "computePreferences": null,
   "dashboards": [],
   "environmentMetadata": {
    "base_environment": "",
    "environment_version": "2"
   },
   "inputWidgetPreferences": null,
   "language": "python",
   "notebookMetadata": {
    "mostRecentlyExecutedCommandWithImplicitDF": {
     "commandId": 7076273312561489,
     "dataframes": [
      "_sqldf"
     ]
    },
    "pythonIndentUnit": 4
   },
   "notebookName": "Projeto Final PMD",
   "widgets": {}
  },
  "kernelspec": {
   "display_name": "Python 3 (ipykernel)",
   "language": "python",
   "name": "python3"
  },
  "language_info": {
   "codemirror_mode": {
    "name": "ipython",
    "version": 3
   },
   "file_extension": ".py",
   "mimetype": "text/x-python",
   "name": "python",
   "nbconvert_exporter": "python",
   "pygments_lexer": "ipython3",
   "version": "3.13.5"
  }
 },
 "nbformat": 4,
 "nbformat_minor": 4
}
